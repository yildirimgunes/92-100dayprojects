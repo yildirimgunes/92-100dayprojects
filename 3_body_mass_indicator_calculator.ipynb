{
 "cells": [
  {
   "cell_type": "code",
   "execution_count": null,
   "metadata": {},
   "outputs": [],
   "source": [
    "#BODY MASS INDICATOR CALCULATOR\n",
    "person_weight=input(\"What is your weight? : \")\n",
    "person_height=input(\"How tall are you? Write your height as a float number with point like 1.73: \")\n",
    "bmi=int(person_weight)/(float(person_height))**2\n",
    "bmi_rounded=round(bmi,2)\n",
    "print(\"Your BMI equal \" + str(bmi))"
   ]
  }
 ],
 "metadata": {
  "kernelspec": {
   "display_name": "Python 3",
   "language": "python",
   "name": "python3"
  },
  "language_info": {
   "codemirror_mode": {
    "name": "ipython",
    "version": 3
   },
   "file_extension": ".py",
   "mimetype": "text/x-python",
   "name": "python",
   "nbconvert_exporter": "python",
   "pygments_lexer": "ipython3",
   "version": "3.9.6"
  }
 },
 "nbformat": 4,
 "nbformat_minor": 2
}
