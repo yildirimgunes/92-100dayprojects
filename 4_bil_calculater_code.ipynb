{
 "cells": [
  {
   "cell_type": "code",
   "execution_count": null,
   "metadata": {},
   "outputs": [],
   "source": [
    "#BILL CALCULATER PROGRAM"
   ]
  },
  {
   "cell_type": "code",
   "execution_count": null,
   "metadata": {},
   "outputs": [],
   "source": [
    "print(\"Welcome to the bill calculator program!\")\n",
    "total_bill=float((input(\"Please write the total amount of the bill? : \")))\n",
    "number_of_people=int(input(\"How many people are you? :\"))\n",
    "tip=int(input(\"How much tips would you like to give? 10, 15, 20, 25?: \"))\n",
    "total_bill_with_tip=int(total_bill+tip)\n",
    "payment_for_each_person=float((total_bill_with_tip/number_of_people))\n",
    "payment_rounded=round(payment_for_each_person,2)\n",
    "print(f\"Each person will give {payment_rounded} dollars\")"
   ]
  }
 ],
 "metadata": {
  "language_info": {
   "name": "python"
  }
 },
 "nbformat": 4,
 "nbformat_minor": 2
}
