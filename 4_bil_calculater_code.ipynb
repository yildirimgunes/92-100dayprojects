{
 "cells": [
  {
   "cell_type": "code",
   "execution_count": null,
   "metadata": {},
   "outputs": [],
   "source": [
    "#BILL CALCULATER PROGRAM"
   ]
  },
  {
   "cell_type": "code",
   "execution_count": null,
   "metadata": {},
   "outputs": [],
   "source": [
    "print(\"Welcome to the bill calculator program!\")\n",
    "total_bill=float((input(\"Please write the total amount of the bill? : \")))\n",
    "number_of_people=int(input(\"How many people are you? :\"))\n",
    "tip=int(input(\"What percentages for tips would you like to give? 10, 15, 20, 25 ?: \"))\n",
    "tip_will_be_added=float(total_bill*tip/100)\n",
    "total_bill_with_tip=int(total_bill+tip_will_be_added)\n",
    "payment_for_each_person=float((total_bill_with_tip/number_of_people))\n",
    "payment_rounded=round(payment_for_each_person,2)\n",
    "print(f\"Each person will give {payment_rounded} dollars\")"
   ]
  }
 ],
 "metadata": {
  "language_info": {
   "name": "python"
  }
 },
 "nbformat": 4,
 "nbformat_minor": 2
}
