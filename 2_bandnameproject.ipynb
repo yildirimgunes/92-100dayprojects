{
 "cells": [
  {
   "cell_type": "code",
   "execution_count": 1,
   "metadata": {},
   "outputs": [],
   "source": [
    "#GIVING_BAND_NAME_AUTOMATICALLY_1st_day_project_of_100days_"
   ]
  },
  {
   "cell_type": "code",
   "execution_count": 2,
   "metadata": {},
   "outputs": [
    {
     "name": "stdout",
     "output_type": "stream",
     "text": [
      "Welcome to Bandgroup Name Generator Program (BNGP) automatically !\n"
     ]
    }
   ],
   "source": [
    "print(\"Welcome to Bandgroup Name Generator Program (BNGP) automatically !\")\n",
    "name_of_city=input(\"What is the name of you born in?\\n\")\n",
    "print(name_of_city)\n",
    "name_of_pet=input(\"What is your first pet name?\\n\")\n",
    "print(name_of_pet)\n",
    "print(\"Your band name is \" + name_of_city + name_of_pet + \" !\")"
   ]
  }
 ],
 "metadata": {
  "kernelspec": {
   "display_name": "Python 3",
   "language": "python",
   "name": "python3"
  },
  "language_info": {
   "codemirror_mode": {
    "name": "ipython",
    "version": 3
   },
   "file_extension": ".py",
   "mimetype": "text/x-python",
   "name": "python",
   "nbconvert_exporter": "python",
   "pygments_lexer": "ipython3",
   "version": "3.9.6"
  }
 },
 "nbformat": 4,
 "nbformat_minor": 2
}
