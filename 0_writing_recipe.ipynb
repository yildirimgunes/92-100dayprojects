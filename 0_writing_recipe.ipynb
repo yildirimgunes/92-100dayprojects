{
 "cells": [
  {
   "cell_type": "code",
   "execution_count": 1,
   "metadata": {},
   "outputs": [
    {
     "name": "stdout",
     "output_type": "stream",
     "text": [
      "1. Mix 500 g. of Flour, 10 g Yeast, 300 ml Water in a bowl.\n",
      "2. Knead the though for 10 minutes.\n",
      "3. Add 3 g of Salt.\n",
      "4. Leave to rise for 2 hrs.\n",
      "5. Bake at 200 degrees C for 30 minutes\n"
     ]
    }
   ],
   "source": [
    "print(\"1. Mix 500 g. of Flour, 10 g Yeast, 300 ml Water in a bowl.\")\n",
    "print(\"2. Knead the though for 10 minutes.\")\n",
    "print(\"3. Add 3 g of Salt.\")\n",
    "print(\"4. Leave to rise for 2 hrs.\")\n",
    "print(\"5. Bake at 200 degrees C for 30 minutes\")"
   ]
  }
 ],
 "metadata": {
  "kernelspec": {
   "display_name": "Python 3",
   "language": "python",
   "name": "python3"
  },
  "language_info": {
   "codemirror_mode": {
    "name": "ipython",
    "version": 3
   },
   "file_extension": ".py",
   "mimetype": "text/x-python",
   "name": "python",
   "nbconvert_exporter": "python",
   "pygments_lexer": "ipython3",
   "version": "3.9.6"
  }
 },
 "nbformat": 4,
 "nbformat_minor": 2
}
